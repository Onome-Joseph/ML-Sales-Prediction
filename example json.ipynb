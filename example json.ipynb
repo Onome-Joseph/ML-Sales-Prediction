{
 "cells": [
  {
   "cell_type": "markdown",
   "id": "30fe61ea-fcd6-4c26-9835-4c2c3b8b2579",
   "metadata": {},
   "source": [
    "## # Test script to submit new data and get a sales prediction"
   ]
  },
  {
   "cell_type": "code",
   "execution_count": 30,
   "id": "59634c2b-5730-4e22-8f31-ce4f0bfb2391",
   "metadata": {},
   "outputs": [
    {
     "data": {
      "text/plain": [
       "{'Price of Sales (USD)': 163.33761596679688}"
      ]
     },
     "execution_count": 30,
     "metadata": {},
     "output_type": "execute_result"
    }
   ],
   "source": [
    "import requests\n",
    "\n",
    "url = 'http://127.0.0.1:8000/predict'\n",
    "\n",
    "# Sample data for testing\n",
    "data = {'Ship_Mode':1,\n",
    "        'Region': 0,\n",
    "        'Category': 2,\n",
    "        'Sub_Category': 27,\n",
    "        'Quantity': 60 }\n",
    "\n",
    "# making a request to API\n",
    "response = requests.post(url, json = data)\n",
    "\n",
    "response.json()"
   ]
  },
  {
   "cell_type": "code",
   "execution_count": null,
   "id": "a7822522-eaba-4aaf-ba4b-cc4ecc56b6ef",
   "metadata": {},
   "outputs": [],
   "source": []
  },
  {
   "cell_type": "code",
   "execution_count": null,
   "id": "6ee29262-49f3-40c1-9402-2a54ebcea7e2",
   "metadata": {},
   "outputs": [],
   "source": []
  }
 ],
 "metadata": {
  "kernelspec": {
   "display_name": "Python 3 (ipykernel)",
   "language": "python",
   "name": "python3"
  },
  "language_info": {
   "codemirror_mode": {
    "name": "ipython",
    "version": 3
   },
   "file_extension": ".py",
   "mimetype": "text/x-python",
   "name": "python",
   "nbconvert_exporter": "python",
   "pygments_lexer": "ipython3",
   "version": "3.11.3"
  }
 },
 "nbformat": 4,
 "nbformat_minor": 5
}
